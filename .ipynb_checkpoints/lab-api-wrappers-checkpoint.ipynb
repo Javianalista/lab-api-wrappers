{
 "cells": [
  {
   "cell_type": "code",
   "execution_count": 130,
   "id": "80fc3f39-f34c-481f-b7e0-01a254bbbfd6",
   "metadata": {},
   "outputs": [],
   "source": [
    "from bs4 import BeautifulSoup\n",
    "import requests\n",
    "import pandas as pd\n",
    "from random import randint\n",
    "import re\n",
    "import spotipy\n",
    "from spotipy.oauth2 import SpotifyClientCredentials\n",
    "from random import randint\n",
    "from time import sleep"
   ]
  },
  {
   "cell_type": "markdown",
   "id": "f38194cb-44a6-42e3-a004-e81b7b1d39a6",
   "metadata": {},
   "source": [
    "## Obtaining the web page"
   ]
  },
  {
   "cell_type": "code",
   "execution_count": 83,
   "id": "f4cab5e9-aa76-42a6-9773-ac5a61aa8135",
   "metadata": {},
   "outputs": [],
   "source": [
    "url = 'https://www.billboard.com/charts/hot-100'"
   ]
  },
  {
   "cell_type": "code",
   "execution_count": 84,
   "id": "c89adeee-aff2-4549-a8e0-9c0a2be780c5",
   "metadata": {},
   "outputs": [
    {
     "data": {
      "text/plain": [
       "200"
      ]
     },
     "execution_count": 84,
     "metadata": {},
     "output_type": "execute_result"
    }
   ],
   "source": [
    "response = requests.get(url)\n",
    "response.status_code"
   ]
  },
  {
   "cell_type": "code",
   "execution_count": 85,
   "id": "61a22313-9ea3-4c59-8724-2342e4bd9476",
   "metadata": {},
   "outputs": [],
   "source": [
    "soup = BeautifulSoup(response.content, \"html.parser\")"
   ]
  },
  {
   "cell_type": "markdown",
   "id": "6137e7fd-ce96-4c0d-8faa-99b1b62bc81d",
   "metadata": {},
   "source": [
    "## Creating the dataframe"
   ]
  },
  {
   "cell_type": "code",
   "execution_count": 86,
   "id": "6f00ed2c-4a3e-4510-ab82-6025dc45cc75",
   "metadata": {},
   "outputs": [],
   "source": [
    "titles = []\n",
    "for title in soup.select(\"h3\")[4:104]:\n",
    "    titles.append(title.get_text().strip())"
   ]
  },
  {
   "cell_type": "code",
   "execution_count": 87,
   "id": "9eb10197-001a-408a-a426-f9b684d497bc",
   "metadata": {},
   "outputs": [],
   "source": [
    "artists = []\n",
    "for artist in soup.select(\"li.o-chart-results-list__item.\\/\\/.lrv-u-flex-grow-1.lrv-u-flex.lrv-u-flex-direction-column.lrv-u-justify-content-center.lrv-u-border-b-1.u-border-b-0\\@mobile-max.lrv-u-border-color-grey-light.lrv-u-padding-l-1\\@mobile-max > span\"):\n",
    "    artists.append(artist.get_text().strip())"
   ]
  },
  {
   "cell_type": "code",
   "execution_count": 88,
   "id": "2ed52907-050a-44a5-9512-51bc9b9ee6cb",
   "metadata": {
    "tags": []
   },
   "outputs": [],
   "source": [
    "#artists"
   ]
  },
  {
   "cell_type": "code",
   "execution_count": 89,
   "id": "c5e8b855-5fab-476c-bb08-6353c6f88968",
   "metadata": {},
   "outputs": [
    {
     "data": {
      "text/html": [
       "<div>\n",
       "<style scoped>\n",
       "    .dataframe tbody tr th:only-of-type {\n",
       "        vertical-align: middle;\n",
       "    }\n",
       "\n",
       "    .dataframe tbody tr th {\n",
       "        vertical-align: top;\n",
       "    }\n",
       "\n",
       "    .dataframe thead th {\n",
       "        text-align: right;\n",
       "    }\n",
       "</style>\n",
       "<table border=\"1\" class=\"dataframe\">\n",
       "  <thead>\n",
       "    <tr style=\"text-align: right;\">\n",
       "      <th></th>\n",
       "      <th>artist</th>\n",
       "      <th>song</th>\n",
       "    </tr>\n",
       "  </thead>\n",
       "  <tbody>\n",
       "    <tr>\n",
       "      <th>0</th>\n",
       "      <td>Taylor Swift</td>\n",
       "      <td>All Too Well (Taylor's Version)</td>\n",
       "    </tr>\n",
       "    <tr>\n",
       "      <th>1</th>\n",
       "      <td>Adele</td>\n",
       "      <td>Easy On Me</td>\n",
       "    </tr>\n",
       "    <tr>\n",
       "      <th>2</th>\n",
       "      <td>The Kid LAROI &amp; Justin Bieber</td>\n",
       "      <td>Stay</td>\n",
       "    </tr>\n",
       "    <tr>\n",
       "      <th>3</th>\n",
       "      <td>Lil Nas X &amp; Jack Harlow</td>\n",
       "      <td>Industry Baby</td>\n",
       "    </tr>\n",
       "    <tr>\n",
       "      <th>4</th>\n",
       "      <td>Silk Sonic (Bruno Mars &amp; Anderson .Paak)</td>\n",
       "      <td>Smokin Out The Window</td>\n",
       "    </tr>\n",
       "    <tr>\n",
       "      <th>...</th>\n",
       "      <td>...</td>\n",
       "      <td>...</td>\n",
       "    </tr>\n",
       "    <tr>\n",
       "      <th>95</th>\n",
       "      <td>Swedish House Mafia &amp; The Weeknd</td>\n",
       "      <td>Moth To A Flame</td>\n",
       "    </tr>\n",
       "    <tr>\n",
       "      <th>96</th>\n",
       "      <td>Cody Johnson</td>\n",
       "      <td>'Til You Can't</td>\n",
       "    </tr>\n",
       "    <tr>\n",
       "      <th>97</th>\n",
       "      <td>Doja Cat</td>\n",
       "      <td>Woman</td>\n",
       "    </tr>\n",
       "    <tr>\n",
       "      <th>98</th>\n",
       "      <td>The Weeknd</td>\n",
       "      <td>Take My Breath</td>\n",
       "    </tr>\n",
       "    <tr>\n",
       "      <th>99</th>\n",
       "      <td>Giveon</td>\n",
       "      <td>For Tonight</td>\n",
       "    </tr>\n",
       "  </tbody>\n",
       "</table>\n",
       "<p>100 rows × 2 columns</p>\n",
       "</div>"
      ],
      "text/plain": [
       "                                      artist                             song\n",
       "0                               Taylor Swift  All Too Well (Taylor's Version)\n",
       "1                                      Adele                       Easy On Me\n",
       "2              The Kid LAROI & Justin Bieber                             Stay\n",
       "3                    Lil Nas X & Jack Harlow                    Industry Baby\n",
       "4   Silk Sonic (Bruno Mars & Anderson .Paak)            Smokin Out The Window\n",
       "..                                       ...                              ...\n",
       "95          Swedish House Mafia & The Weeknd                  Moth To A Flame\n",
       "96                              Cody Johnson                   'Til You Can't\n",
       "97                                  Doja Cat                            Woman\n",
       "98                                The Weeknd                   Take My Breath\n",
       "99                                    Giveon                      For Tonight\n",
       "\n",
       "[100 rows x 2 columns]"
      ]
     },
     "execution_count": 89,
     "metadata": {},
     "output_type": "execute_result"
    }
   ],
   "source": [
    "top_100 = pd.DataFrame({\"artist\": artists, \"song\": titles})\n",
    "top_100"
   ]
  },
  {
   "cell_type": "markdown",
   "id": "53cadb84-83d5-4d17-9e16-ab2d7ff76b58",
   "metadata": {},
   "source": [
    "## Obtaining the second list"
   ]
  },
  {
   "cell_type": "code",
   "execution_count": 90,
   "id": "9f8b5330-e78b-492b-94d8-2e5a7d0767ae",
   "metadata": {},
   "outputs": [],
   "source": [
    "url1 = 'https://www.elportaldemusica.es/lists/top-100-canciones/2021/45'"
   ]
  },
  {
   "cell_type": "code",
   "execution_count": 91,
   "id": "d93dcded-9846-4405-bdfd-653c333a850b",
   "metadata": {},
   "outputs": [
    {
     "data": {
      "text/plain": [
       "200"
      ]
     },
     "execution_count": 91,
     "metadata": {},
     "output_type": "execute_result"
    }
   ],
   "source": [
    "response1 = requests.get(url1)\n",
    "response1.status_code"
   ]
  },
  {
   "cell_type": "code",
   "execution_count": 92,
   "id": "3b015257-3eb3-4b47-b9f7-8df449f85acc",
   "metadata": {},
   "outputs": [],
   "source": [
    "soup1 = BeautifulSoup(response1.content, \"html.parser\")"
   ]
  },
  {
   "cell_type": "code",
   "execution_count": 93,
   "id": "fb669721-6ad1-4376-8ab5-09247090b05a",
   "metadata": {
    "tags": []
   },
   "outputs": [],
   "source": [
    "#soup1"
   ]
  },
  {
   "cell_type": "code",
   "execution_count": 94,
   "id": "ac22cc18-5bb2-46c2-b42b-5ea6fa04b11f",
   "metadata": {},
   "outputs": [],
   "source": [
    "artists1 = []\n",
    "for name in soup1.select(\"div.related\"):\n",
    "    artists1.append(name.get_text().strip())"
   ]
  },
  {
   "cell_type": "code",
   "execution_count": 95,
   "id": "93f19d9f-dd15-4945-a1ab-844f05eedbc2",
   "metadata": {},
   "outputs": [],
   "source": [
    "songs1 = []\n",
    "for name in soup1.select(\"div.name\"):\n",
    "    songs1.append(name.get_text().strip())"
   ]
  },
  {
   "cell_type": "code",
   "execution_count": 96,
   "id": "bb53ad55-bc2b-4352-87f3-9d3919cb53b6",
   "metadata": {},
   "outputs": [
    {
     "data": {
      "text/html": [
       "<div>\n",
       "<style scoped>\n",
       "    .dataframe tbody tr th:only-of-type {\n",
       "        vertical-align: middle;\n",
       "    }\n",
       "\n",
       "    .dataframe tbody tr th {\n",
       "        vertical-align: top;\n",
       "    }\n",
       "\n",
       "    .dataframe thead th {\n",
       "        text-align: right;\n",
       "    }\n",
       "</style>\n",
       "<table border=\"1\" class=\"dataframe\">\n",
       "  <thead>\n",
       "    <tr style=\"text-align: right;\">\n",
       "      <th></th>\n",
       "      <th>artist</th>\n",
       "      <th>song</th>\n",
       "    </tr>\n",
       "  </thead>\n",
       "  <tbody>\n",
       "    <tr>\n",
       "      <th>0</th>\n",
       "      <td>C. Tangana, Nathy Peluso</td>\n",
       "      <td>Ateo</td>\n",
       "    </tr>\n",
       "    <tr>\n",
       "      <th>1</th>\n",
       "      <td>zzoilo, Aitana</td>\n",
       "      <td>Mon Amour (remix)</td>\n",
       "    </tr>\n",
       "    <tr>\n",
       "      <th>2</th>\n",
       "      <td>BIZARRAP / ANUEL AA</td>\n",
       "      <td>ANUEL AA: BZRP MUSIC SESSION: VOL. 46</td>\n",
       "    </tr>\n",
       "    <tr>\n",
       "      <th>3</th>\n",
       "      <td>MYKE TOWERS</td>\n",
       "      <td>EXPERIMENTO</td>\n",
       "    </tr>\n",
       "    <tr>\n",
       "      <th>4</th>\n",
       "      <td>Rvssian, Rauw Alejandro &amp; Chris Brown</td>\n",
       "      <td>Nostálgico</td>\n",
       "    </tr>\n",
       "    <tr>\n",
       "      <th>...</th>\n",
       "      <td>...</td>\n",
       "      <td>...</td>\n",
       "    </tr>\n",
       "    <tr>\n",
       "      <th>95</th>\n",
       "      <td>KAROL G</td>\n",
       "      <td>SEJODIOTO</td>\n",
       "    </tr>\n",
       "    <tr>\n",
       "      <th>96</th>\n",
       "      <td>Olivia Rodrigo</td>\n",
       "      <td>Good 4 u</td>\n",
       "    </tr>\n",
       "    <tr>\n",
       "      <th>97</th>\n",
       "      <td>BIZARRAP / NICKY JAM</td>\n",
       "      <td>NICKY JAM: BZRP MUSIC SESSIONS, VOL. 41</td>\n",
       "    </tr>\n",
       "    <tr>\n",
       "      <th>98</th>\n",
       "      <td>Jhay Cortez, Skrillex</td>\n",
       "      <td>En Mi Cuarto</td>\n",
       "    </tr>\n",
       "    <tr>\n",
       "      <th>99</th>\n",
       "      <td>RAUW ALEJANDRO / MR. NAISGAI</td>\n",
       "      <td>2/CATORCE</td>\n",
       "    </tr>\n",
       "  </tbody>\n",
       "</table>\n",
       "<p>100 rows × 2 columns</p>\n",
       "</div>"
      ],
      "text/plain": [
       "                                   artist  \\\n",
       "0                C. Tangana, Nathy Peluso   \n",
       "1                          zzoilo, Aitana   \n",
       "2                     BIZARRAP / ANUEL AA   \n",
       "3                             MYKE TOWERS   \n",
       "4   Rvssian, Rauw Alejandro & Chris Brown   \n",
       "..                                    ...   \n",
       "95                                KAROL G   \n",
       "96                         Olivia Rodrigo   \n",
       "97                   BIZARRAP / NICKY JAM   \n",
       "98                  Jhay Cortez, Skrillex   \n",
       "99           RAUW ALEJANDRO / MR. NAISGAI   \n",
       "\n",
       "                                       song  \n",
       "0                                      Ateo  \n",
       "1                         Mon Amour (remix)  \n",
       "2     ANUEL AA: BZRP MUSIC SESSION: VOL. 46  \n",
       "3                               EXPERIMENTO  \n",
       "4                                Nostálgico  \n",
       "..                                      ...  \n",
       "95                                SEJODIOTO  \n",
       "96                                 Good 4 u  \n",
       "97  NICKY JAM: BZRP MUSIC SESSIONS, VOL. 41  \n",
       "98                             En Mi Cuarto  \n",
       "99                                2/CATORCE  \n",
       "\n",
       "[100 rows x 2 columns]"
      ]
     },
     "execution_count": 96,
     "metadata": {},
     "output_type": "execute_result"
    }
   ],
   "source": [
    "second_top = pd.DataFrame({\"artist\": artists1, \"song\": songs1})\n",
    "second_top"
   ]
  },
  {
   "cell_type": "markdown",
   "id": "00fb4d69-f66e-49a1-93f9-f77bfb73a464",
   "metadata": {},
   "source": [
    "### Asking a song name"
   ]
  },
  {
   "cell_type": "code",
   "execution_count": 97,
   "id": "8a9fa143-30ed-479c-b63c-7814da307d83",
   "metadata": {},
   "outputs": [],
   "source": [
    "def recommending_song(song):\n",
    "    songs_to_recommend_top_100 = []\n",
    "    position_top_100 = []\n",
    "    songs_to_recommend_second_top = []\n",
    "    position_second_top = []\n",
    "    for i in range(100):\n",
    "        if song == top_100['song'][i]:\n",
    "            songs_to_recommend_top_100.append(top_100['song'][i])\n",
    "            position_top_100.append(i)\n",
    "        elif song == second_top['song'][i]:\n",
    "            songs_to_recommend_second_top.append(second_top['song'][i])\n",
    "            position_second_top.append(i)\n",
    "    if len(songs_to_recommend_top_100)> 0:\n",
    "        random_number = position_top_100[0]\n",
    "        while random_number == position_top_100[0]:\n",
    "            random_number = randint(0,99)\n",
    "        i_recommend = top_100['song'][random_number]\n",
    "        return print(\"Good choice! This song is now in the position number \" + str(position_top_100[0]+1) + \" of our first top from \" + top_100['artist'][position_top_100[0]] + \". Here we have another recommendation of this top 100 songs: \" + i_recommend + \" from \" + top_100['artist'][random_number])\n",
    "    elif len(songs_to_recommend_second_top)> 0:\n",
    "        random_number = position_second_top[0]\n",
    "        while random_number == position_second_top[0]:\n",
    "            random_number = randint(0,99)\n",
    "        i_recommend = second_top['song'][random_number]\n",
    "        return print(\"Good choice! This song is now in the position number \" + str(position_second_top[0]+1) + \" of our second top from \" + second_top['artist'][position_second_top[0]] + \". Here we have another recommendation of this top 100 songs: \" + i_recommend + \" from \" + second_top['artist'][random_number])\n",
    "    else:\n",
    "        print(\"Sorry, now we can't help you with that song, but if you want to try again with another one...\")\n",
    "        return 0"
   ]
  },
  {
   "cell_type": "code",
   "execution_count": 98,
   "id": "cd88c563-11d4-4079-875d-8e0a28f724d9",
   "metadata": {},
   "outputs": [],
   "source": [
    "def recommending_artist(artist):\n",
    "    songs_to_recommend_top_100 = []\n",
    "    position_top_100 = []\n",
    "    songs_to_recommend_second_top = []\n",
    "    position_second_top = []\n",
    "    for i in range(100):\n",
    "        text1 = top_100['artist'][i]\n",
    "        text2 = second_top['artist'][i]\n",
    "        pattern = artist\n",
    "        number_1 = re.findall(pattern, text1)\n",
    "        number_2 = re.findall(pattern, text2)\n",
    "        if len(number_1)> 0:\n",
    "            songs_to_recommend_top_100.append(top_100['song'][i])\n",
    "            position_top_100.append(i)\n",
    "            number_1.pop(0)\n",
    "        if len(number_2)> 0:\n",
    "            songs_to_recommend_second_top.append(second_top['song'][i])\n",
    "            position_second_top.append(i)\n",
    "            number_2.pop(0)\n",
    "    if len(songs_to_recommend_top_100)> 0:\n",
    "        print('Good choice! This artist has ' + str(len(songs_to_recommend_top_100)) + ' songs:')\n",
    "        for i in range(len(songs_to_recommend_top_100)):\n",
    "            print('-' + songs_to_recommend_top_100[i] + ' in position ' + str(position_top_100[i] + 1))\n",
    "        return \n",
    "    elif len(songs_to_recommend_second_top)> 0:\n",
    "        print('Good choice! This artist has ' + str(len(songs_to_recommend_second_top)) + ' songs:')\n",
    "        for i in range(len(songs_to_recommend_second_top)):\n",
    "            print('-' + songs_to_recommend_second_top[i] + ' in position ' + str(position_second_top[i] + 1))\n",
    "        return \n",
    "    else:\n",
    "        print(\"Sorry, now we can't help you with that artist, but if you want to try again with another one...\")\n",
    "        return 0"
   ]
  },
  {
   "cell_type": "code",
   "execution_count": 99,
   "id": "345a722b-2c65-4c75-b48c-327e763d7631",
   "metadata": {},
   "outputs": [],
   "source": [
    "def asking_song():\n",
    "    print(\"Which song do you want?\")\n",
    "    song_name = input()\n",
    "    value = recommending_song(song_name)\n",
    "    while value == 0:\n",
    "        print(\"Which new song do you want?\")\n",
    "        song_name = input()\n",
    "        value = recommending_song(song_name)\n",
    "    return"
   ]
  },
  {
   "cell_type": "code",
   "execution_count": 100,
   "id": "89da0aa5-5ad6-4898-b256-ddccee7b64b4",
   "metadata": {},
   "outputs": [],
   "source": [
    "def asking_artist():\n",
    "    print(\"Which artist do you want?\")\n",
    "    artist_name = input()\n",
    "    value = recommending_artist(artist_name)\n",
    "    while value == 0:\n",
    "        print(\"Which new artist do you want?\")\n",
    "        artist_name = input()\n",
    "        value = recommending_artist(song_name)\n",
    "    return"
   ]
  },
  {
   "cell_type": "code",
   "execution_count": 101,
   "id": "553ee1e2-19cf-4e9e-b2aa-a8abdac3a7e9",
   "metadata": {},
   "outputs": [],
   "source": [
    "def asking():\n",
    "    print(\"If you want to search by song enter 1, and if you want to search by artist enter 2\")\n",
    "    search = input()\n",
    "    while (search != '1') & (search != '2'):\n",
    "        print(type(search))\n",
    "        print(\"This isn't a valid value... Try again\")\n",
    "        print(\"If you want to search by song enter 1, and if you want to search by artist enter 2\")\n",
    "        search = input()\n",
    "    if search == '1':\n",
    "        return asking_song()\n",
    "    elif search == '2':\n",
    "        return asking_artist()"
   ]
  },
  {
   "cell_type": "code",
   "execution_count": 102,
   "id": "83297d41-e8fd-47e3-b2f7-71b7bba3323c",
   "metadata": {},
   "outputs": [
    {
     "name": "stdout",
     "output_type": "stream",
     "text": [
      "If you want to search by song enter 1, and if you want to search by artist enter 2\n"
     ]
    },
    {
     "name": "stdin",
     "output_type": "stream",
     "text": [
      " sals\n"
     ]
    },
    {
     "name": "stdout",
     "output_type": "stream",
     "text": [
      "<class 'str'>\n",
      "This isn't a valid value... Try again\n",
      "If you want to search by song enter 1, and if you want to search by artist enter 2\n"
     ]
    },
    {
     "name": "stdin",
     "output_type": "stream",
     "text": [
      " 3\n"
     ]
    },
    {
     "name": "stdout",
     "output_type": "stream",
     "text": [
      "<class 'str'>\n",
      "This isn't a valid value... Try again\n",
      "If you want to search by song enter 1, and if you want to search by artist enter 2\n"
     ]
    },
    {
     "name": "stdin",
     "output_type": "stream",
     "text": [
      " 2\n"
     ]
    },
    {
     "name": "stdout",
     "output_type": "stream",
     "text": [
      "Which artist do you want?\n"
     ]
    },
    {
     "name": "stdin",
     "output_type": "stream",
     "text": [
      " Tangana\n"
     ]
    },
    {
     "name": "stdout",
     "output_type": "stream",
     "text": [
      "Good choice! This artist has 2 songs:\n",
      "-Ateo in position 1\n",
      "-Tú Me Dejaste De Querer in position 53\n"
     ]
    }
   ],
   "source": [
    "asking()"
   ]
  },
  {
   "cell_type": "markdown",
   "id": "d73f69d3-8dd1-4111-b892-0a45c23226d0",
   "metadata": {},
   "source": [
    "### Opening Spotipy"
   ]
  },
  {
   "cell_type": "code",
   "execution_count": 103,
   "id": "3d75a5c2-b706-4cee-970c-fe7aede45c6f",
   "metadata": {},
   "outputs": [],
   "source": [
    "secrets_file = open(\"secrets.txt\",\"r\")"
   ]
  },
  {
   "cell_type": "code",
   "execution_count": 104,
   "id": "9725134d-70be-4286-8484-21b44a28beb0",
   "metadata": {},
   "outputs": [],
   "source": [
    "string = secrets_file.read()"
   ]
  },
  {
   "cell_type": "code",
   "execution_count": 106,
   "id": "255f1c70-2136-4572-b5d7-59c9ef38e984",
   "metadata": {},
   "outputs": [],
   "source": [
    "#string.split('\\n')"
   ]
  },
  {
   "cell_type": "code",
   "execution_count": 107,
   "id": "3cadd149-da42-4939-a7c7-7210d19c170f",
   "metadata": {},
   "outputs": [],
   "source": [
    "secrets_dict={}\n",
    "for line in string.split('\\n'):\n",
    "    if len(line) > 0:\n",
    "        secrets_dict[line.split(':')[0]]=line.split(':')[1]"
   ]
  },
  {
   "cell_type": "code",
   "execution_count": 108,
   "id": "751983c8-efc5-49e9-ab48-939b33d51c41",
   "metadata": {},
   "outputs": [],
   "source": [
    "sp = spotipy.Spotify(auth_manager=SpotifyClientCredentials(client_id=secrets_dict['cid'],\n",
    "                                                           client_secret=secrets_dict['csecret']))"
   ]
  },
  {
   "cell_type": "markdown",
   "id": "9651b239-b608-4cd3-9b05-d525abba419e",
   "metadata": {},
   "source": [
    "### Obtaining different playlists"
   ]
  },
  {
   "cell_type": "code",
   "execution_count": null,
   "id": "64f3b5ae-7195-47ea-98a5-5e02fc36aa2c",
   "metadata": {},
   "outputs": [],
   "source": [
    "37i9dQZEVXbJwoKy8qKpHG\n",
    "37i9dQZEVXbMDoHDwVN2tF\n",
    "\n",
    "6ulnRbATULdUE2CDIjNLvP"
   ]
  },
  {
   "cell_type": "code",
   "execution_count": 109,
   "id": "8f252083-3126-4135-b15c-80eae5267822",
   "metadata": {},
   "outputs": [],
   "source": [
    "playlist = sp.user_playlist_tracks(\"spotify\", \"37i9dQZEVXbJwoKy8qKpHG\")"
   ]
  },
  {
   "cell_type": "code",
   "execution_count": 110,
   "id": "2907a9ff-80b1-4d59-bb23-574147cd399c",
   "metadata": {},
   "outputs": [
    {
     "data": {
      "text/plain": [
       "50"
      ]
     },
     "execution_count": 110,
     "metadata": {},
     "output_type": "execute_result"
    }
   ],
   "source": [
    "playlist[\"total\"] "
   ]
  },
  {
   "cell_type": "code",
   "execution_count": 117,
   "id": "7ede1c2a-24fc-4c97-8d96-739a5eed7593",
   "metadata": {},
   "outputs": [],
   "source": [
    "def get_name_artists_from_track(track):\n",
    "    return [(track[\"name\"],artist[\"name\"]) for artist in track[\"artists\"]]"
   ]
  },
  {
   "cell_type": "code",
   "execution_count": 115,
   "id": "42c2e84f-d1e0-4b5a-ae71-a46a86d487cb",
   "metadata": {},
   "outputs": [],
   "source": [
    "def flatten(input_list):\n",
    "    return [item for sublist in input_list for item in sublist]"
   ]
  },
  {
   "cell_type": "code",
   "execution_count": 111,
   "id": "e2e35157-2fe3-47d5-8151-f42b9bddaae3",
   "metadata": {},
   "outputs": [],
   "source": [
    "def get_name_artist_from_playlist_item(playlist_item):\n",
    "    return get_name_artists_from_track(playlist_item['track'])"
   ]
  },
  {
   "cell_type": "code",
   "execution_count": 133,
   "id": "91f50f93-db32-4301-9730-364bed55c120",
   "metadata": {},
   "outputs": [],
   "source": [
    "def get_name_artists_from_playlist(input_playlist):\n",
    "    return list(map(get_name_artist_from_playlist_item,input_playlist[\"items\"]))"
   ]
  },
  {
   "cell_type": "code",
   "execution_count": null,
   "id": "bbc71040-cb5d-45fe-8c98-130e837bc58e",
   "metadata": {},
   "outputs": [],
   "source": [
    "def get_name_artists_from_playlist(input_playlist):\n",
    "    return flatten(list(map(get_name_artist_from_playlist_item,input_playlist[\"items\"])))"
   ]
  },
  {
   "cell_type": "code",
   "execution_count": 118,
   "id": "00a3f9d8-70f5-40a8-953e-07a81ef191a8",
   "metadata": {
    "collapsed": true,
    "jupyter": {
     "outputs_hidden": true
    },
    "tags": []
   },
   "outputs": [
    {
     "data": {
      "text/plain": [
       "[('LA FAMA (with The Weeknd)', 'ROSALÍA'),\n",
       " ('LA FAMA (with The Weeknd)', 'The Weeknd'),\n",
       " ('Ateo', 'C. Tangana'),\n",
       " ('Ateo', 'Nathy Peluso'),\n",
       " ('Experimento', 'Myke Towers'),\n",
       " ('Mon Amour - Remix', 'zzoilo'),\n",
       " ('Mon Amour - Remix', 'Aitana'),\n",
       " ('Una Vaina Loca', 'Fuego'),\n",
       " ('Una Vaina Loca', 'Manuel Turizo'),\n",
       " ('Una Vaina Loca', 'Duki'),\n",
       " ('Anuel AA: Bzrp Music Sessions, Vol. 46', 'Bizarrap'),\n",
       " ('Anuel AA: Bzrp Music Sessions, Vol. 46', 'Anuel AA'),\n",
       " ('Nostálgico', 'Rvssian'),\n",
       " ('Nostálgico', 'Rauw Alejandro'),\n",
       " ('Nostálgico', 'Chris Brown'),\n",
       " ('Salimo de Noche', 'Tiago PZK'),\n",
       " ('Salimo de Noche', 'Trueno'),\n",
       " ('Ley Seca', 'Jhay Cortez'),\n",
       " ('Ley Seca', 'Anuel AA'),\n",
       " ('Dile (Homenaje)', 'Jhay Cortez'),\n",
       " ('Cúrame', 'Rauw Alejandro'),\n",
       " ('Tacones Rojos', 'Sebastian Yatra'),\n",
       " ('Todo De Ti', 'Rauw Alejandro'),\n",
       " ('Ptazeta: Bzrp Music Sessions, Vol. 45', 'Bizarrap'),\n",
       " ('Ptazeta: Bzrp Music Sessions, Vol. 45', 'Ptazeta'),\n",
       " ('El Incomprendido', 'Farruko'),\n",
       " ('El Incomprendido', 'Victor Cardenas'),\n",
       " ('El Incomprendido', 'Dj Adoni'),\n",
       " ('Dictadura', 'Anuel AA'),\n",
       " ('Volando - Remix', 'Mora'),\n",
       " ('Volando - Remix', 'Bad Bunny'),\n",
       " ('Volando - Remix', 'Sech'),\n",
       " ('Pepas', 'Farruko'),\n",
       " ('Volví', 'Aventura'),\n",
       " ('Volví', 'Bad Bunny'),\n",
       " ('Yonaguni', 'Bad Bunny'),\n",
       " ('Índigo', 'Camilo'),\n",
       " ('Índigo', 'Evaluna Montaner'),\n",
       " ('Cuando Ella Sale', 'Morad'),\n",
       " ('Colorín Colorado', 'Justin Quiles'),\n",
       " ('Habla Claro', 'Eladio Carrion'),\n",
       " ('Habla Claro', 'Morad'),\n",
       " ('Loco', 'Justin Quiles'),\n",
       " ('Loco', 'Chimbala'),\n",
       " ('Loco', 'Zion & Lennox'),\n",
       " ('INMORTALES', 'Funzo & Baby Loud'),\n",
       " ('FEEL ME??', 'Trueno'),\n",
       " ('Unfollow', 'Duki'),\n",
       " ('Unfollow', 'Justin Quiles'),\n",
       " ('Unfollow', 'Bizarrap'),\n",
       " ('La Historia', 'El Taiger'),\n",
       " ('La Historia', 'DJ Conds'),\n",
       " ('Lo Siento BB:/ (with Bad Bunny & Julieta Venegas)', 'Tainy'),\n",
       " ('Lo Siento BB:/ (with Bad Bunny & Julieta Venegas)', 'Bad Bunny'),\n",
       " ('Lo Siento BB:/ (with Bad Bunny & Julieta Venegas)', 'Julieta Venegas'),\n",
       " ('120', 'Bad Bunny'),\n",
       " ('Tiroteo - Remix', 'Marc Seguí'),\n",
       " ('Tiroteo - Remix', 'Rauw Alejandro'),\n",
       " ('Tiroteo - Remix', 'Pol Granch'),\n",
       " ('Sabe', 'Nicki Nicole'),\n",
       " ('Sabe', 'Rauw Alejandro'),\n",
       " ('Combo la L', 'Beny Jr'),\n",
       " ('Combo la L', 'El Guincho'),\n",
       " ('La Old Skul', 'Rauw Alejandro'),\n",
       " ('Sexo Virtual', 'Rauw Alejandro'),\n",
       " ('Libertad', 'Nil Moliner'),\n",
       " ('ALMAS GEMELAS', 'Myke Towers'),\n",
       " ('Veneno', 'Delaossa'),\n",
       " ('Veneno', 'KIDDO'),\n",
       " ('Veneno', 'J.Moods'),\n",
       " ('Búscate Otro', 'Atomic Otro Way'),\n",
       " ('Búscate Otro', 'Jc La Nevula'),\n",
       " ('Cold Heart - PNAU Remix', 'Elton John'),\n",
       " ('Cold Heart - PNAU Remix', 'Dua Lipa'),\n",
       " ('Cold Heart - PNAU Remix', 'PNAU'),\n",
       " ('Qué Más Pues?', 'J Balvin'),\n",
       " ('Qué Más Pues?', 'Maria Becerra'),\n",
       " ('Pareja Del Año', 'Sebastian Yatra'),\n",
       " ('Pareja Del Año', 'Myke Towers'),\n",
       " ('La Botella', 'Justin Quiles'),\n",
       " ('La Botella', 'Maluma'),\n",
       " ('STAY (with Justin Bieber)', 'The Kid LAROI'),\n",
       " ('STAY (with Justin Bieber)', 'Justin Bieber'),\n",
       " ('Diablita Remix', 'Fabbio'),\n",
       " ('Diablita Remix', 'Omar Montes'),\n",
       " ('Diablita Remix', 'Lennis Rodriguez'),\n",
       " ('Diablita Remix', 'Chus Santana'),\n",
       " ('Ella', 'El Bobe'),\n",
       " ('Ella', 'alPeDue'),\n",
       " ('Beba Qué Quieres Que Haga', 'Omar Montes'),\n",
       " ('Beba Qué Quieres Que Haga', 'JC el Diamante'),\n",
       " ('INDUSTRY BABY (feat. Jack Harlow)', 'Lil Nas X'),\n",
       " ('INDUSTRY BABY (feat. Jack Harlow)', 'Jack Harlow'),\n",
       " ('Easy On Me', 'Adele')]"
      ]
     },
     "execution_count": 118,
     "metadata": {},
     "output_type": "execute_result"
    }
   ],
   "source": [
    "get_name_artists_from_playlist(playlist)"
   ]
  },
  {
   "cell_type": "markdown",
   "id": "a4842e1b-3724-49a6-8172-d7108bdfb1c3",
   "metadata": {},
   "source": [
    "#### Using a big playlist to obtain a lot of songs by different artists"
   ]
  },
  {
   "cell_type": "code",
   "execution_count": 122,
   "id": "1692849b-ddf4-4154-84b2-2bca64cbb635",
   "metadata": {},
   "outputs": [],
   "source": [
    "playlist = sp.user_playlist_tracks(\"spotify\", \"6ulnRbATULdUE2CDIjNLvP\")"
   ]
  },
  {
   "cell_type": "code",
   "execution_count": 123,
   "id": "5b1b24b9-b3dc-452e-8b3c-f496002c441c",
   "metadata": {},
   "outputs": [
    {
     "data": {
      "text/plain": [
       "805"
      ]
     },
     "execution_count": 123,
     "metadata": {},
     "output_type": "execute_result"
    }
   ],
   "source": [
    "playlist[\"total\"] "
   ]
  },
  {
   "cell_type": "code",
   "execution_count": 124,
   "id": "8ddedcbb-d2f2-4b1e-8e72-2405cb926600",
   "metadata": {},
   "outputs": [
    {
     "data": {
      "text/plain": [
       "100"
      ]
     },
     "execution_count": 124,
     "metadata": {},
     "output_type": "execute_result"
    }
   ],
   "source": [
    "# It is limited to 100 tracks, we will have to fix it:\n",
    "len(playlist[\"items\"])"
   ]
  },
  {
   "cell_type": "code",
   "execution_count": 125,
   "id": "34d82544-a540-446e-8ef3-4a6ae15ba475",
   "metadata": {},
   "outputs": [
    {
     "data": {
      "text/plain": [
       "'https://api.spotify.com/v1/playlists/6ulnRbATULdUE2CDIjNLvP/tracks?offset=100&limit=100&additional_types=track'"
      ]
     },
     "execution_count": 125,
     "metadata": {},
     "output_type": "execute_result"
    }
   ],
   "source": [
    "playlist['next']"
   ]
  },
  {
   "cell_type": "code",
   "execution_count": null,
   "id": "4fd99700-9b30-4253-a8bc-6228bedbc5d8",
   "metadata": {
    "tags": []
   },
   "outputs": [],
   "source": [
    "#sp.next(playlist)"
   ]
  },
  {
   "cell_type": "code",
   "execution_count": 136,
   "id": "90c87ed4-b609-4fa8-93e4-5cb121ff0144",
   "metadata": {},
   "outputs": [],
   "source": [
    "def get_playlist_tracks(playlist_id):\n",
    "    results = sp.user_playlist_tracks(\"spotify\",playlist_id)\n",
    "    tracks = results['items']\n",
    "    while results['next']!=None:\n",
    "        results = sp.next(results)\n",
    "        tracks = tracks + results['items']\n",
    "        sleep(randint(1,3))\n",
    "    return tracks"
   ]
  },
  {
   "cell_type": "code",
   "execution_count": 137,
   "id": "d426a40d-8038-4d33-aa9c-052a2f34e316",
   "metadata": {},
   "outputs": [
    {
     "data": {
      "text/plain": [
       "805"
      ]
     },
     "execution_count": 137,
     "metadata": {},
     "output_type": "execute_result"
    }
   ],
   "source": [
    "all_tracks = get_playlist_tracks(\"6ulnRbATULdUE2CDIjNLvP\")\n",
    "len(all_tracks)"
   ]
  },
  {
   "cell_type": "code",
   "execution_count": 152,
   "id": "adacd919-4ff5-4361-ad53-19a390fcdfb6",
   "metadata": {},
   "outputs": [],
   "source": [
    "artist_and_track = [[],[]]\n",
    "for i in range(len(all_tracks)):\n",
    "    name_artists = ''\n",
    "    for j in range(len(all_tracks[i][\"track\"][\"artists\"])):\n",
    "        name_artists = name_artists + all_tracks[i][\"track\"][\"artists\"][j][\"name\"]\n",
    "    artist_and_track[0].append(name_artists)\n",
    "    artist_and_track[1].append(all_tracks[i][\"track\"][\"name\"])"
   ]
  },
  {
   "cell_type": "code",
   "execution_count": 156,
   "id": "d2138e96-4458-4614-ac59-2d29613a3518",
   "metadata": {},
   "outputs": [],
   "source": [
    "different_artists = []\n",
    "for i in range(len(all_tracks)):\n",
    "    if artist_and_track[0][i] not in different_artists:\n",
    "        different_artists = different_artists + [artist_and_track[0][i]]"
   ]
  },
  {
   "cell_type": "code",
   "execution_count": 158,
   "id": "3511e624-7120-46e6-a7ce-272a31500ac3",
   "metadata": {
    "tags": []
   },
   "outputs": [],
   "source": [
    "#different_artists"
   ]
  },
  {
   "cell_type": "code",
   "execution_count": 194,
   "id": "e9d4c93a-5723-481b-9d5a-d04955c1a4ce",
   "metadata": {},
   "outputs": [],
   "source": [
    "def obtaining_all_songs_from_all_artists(lista):\n",
    "    list_with_songs = [[],[]]\n",
    "    i = 0\n",
    "    for artist in lista:\n",
    "        results = sp.search(q=artist, limit=50)\n",
    "        tracks = results['tracks']['items']\n",
    "        stop = 0\n",
    "        while (results['tracks']['next']!=None) and (stop != 1):\n",
    "            try:\n",
    "                results = sp.next(results['tracks'])\n",
    "                tracks = tracks + results['tracks']['items']\n",
    "                sleep(randint(1,3))\n",
    "            except:\n",
    "                stop = 1\n",
    "        list_with_songs[0].append(artist)\n",
    "        list_with_songs[1].append(tracks)\n",
    "        i += 1\n",
    "    return list_with_songs"
   ]
  },
  {
   "cell_type": "code",
   "execution_count": 196,
   "id": "5ec9123f-0992-469f-bc92-443dc1e6eccf",
   "metadata": {},
   "outputs": [
    {
     "name": "stderr",
     "output_type": "stream",
     "text": [
      "ERROR:spotipy.client:HTTP Error for GET to https://api.spotify.com/v1/search?query=The+Animals&type=track&offset=1000&limit=50 with Params: {} returned 404 due to Not found.\n",
      "ERROR:spotipy.client:HTTP Error for GET to https://api.spotify.com/v1/search?query=Gorillaz&type=track&offset=1000&limit=50 with Params: {} returned 404 due to Not found.\n",
      "ERROR:spotipy.client:HTTP Error for GET to https://api.spotify.com/v1/search?query=DEVO&type=track&offset=1000&limit=50 with Params: {} returned 404 due to Not found.\n",
      "ERROR:spotipy.client:HTTP Error for GET to https://api.spotify.com/v1/search?query=The+Black+Keys&type=track&offset=1000&limit=50 with Params: {} returned 404 due to Not found.\n",
      "ERROR:spotipy.client:HTTP Error for GET to https://api.spotify.com/v1/search?query=Cake&type=track&offset=1000&limit=50 with Params: {} returned 404 due to Not found.\n",
      "ERROR:spotipy.client:HTTP Error for GET to https://api.spotify.com/v1/search?query=Franz+Ferdinand&type=track&offset=1000&limit=50 with Params: {} returned 404 due to Not found.\n",
      "ERROR:spotipy.client:HTTP Error for GET to https://api.spotify.com/v1/search?query=Spoon&type=track&offset=1000&limit=50 with Params: {} returned 404 due to Not found.\n",
      "ERROR:spotipy.client:HTTP Error for GET to https://api.spotify.com/v1/search?query=Green+Day&type=track&offset=1000&limit=50 with Params: {} returned 404 due to Not found.\n",
      "ERROR:spotipy.client:HTTP Error for GET to https://api.spotify.com/v1/search?query=Electric+Six&type=track&offset=1000&limit=50 with Params: {} returned 404 due to Not found.\n",
      "ERROR:spotipy.client:HTTP Error for GET to https://api.spotify.com/v1/search?query=Muse&type=track&offset=1000&limit=50 with Params: {} returned 404 due to Not found.\n",
      "ERROR:spotipy.client:HTTP Error for GET to https://api.spotify.com/v1/search?query=Bad+Suns&type=track&offset=1000&limit=50 with Params: {} returned 404 due to Not found.\n",
      "ERROR:spotipy.client:HTTP Error for GET to https://api.spotify.com/v1/search?query=Arcade+Fire&type=track&offset=1000&limit=50 with Params: {} returned 404 due to Not found.\n",
      "ERROR:spotipy.client:HTTP Error for GET to https://api.spotify.com/v1/search?query=Radiohead&type=track&offset=1000&limit=50 with Params: {} returned 404 due to Not found.\n",
      "ERROR:spotipy.client:HTTP Error for GET to https://api.spotify.com/v1/search?query=OK+Go&type=track&offset=1000&limit=50 with Params: {} returned 404 due to Not found.\n",
      "ERROR:spotipy.client:HTTP Error for GET to https://api.spotify.com/v1/search?query=Airways&type=track&offset=1000&limit=50 with Params: {} returned 404 due to Not found.\n",
      "ERROR:spotipy.client:HTTP Error for GET to https://api.spotify.com/v1/search?query=Simple+Kid&type=track&offset=1000&limit=50 with Params: {} returned 404 due to Not found.\n",
      "ERROR:spotipy.client:HTTP Error for GET to https://api.spotify.com/v1/search?query=Pixies&type=track&offset=1000&limit=50 with Params: {} returned 404 due to Not found.\n",
      "ERROR:spotipy.client:HTTP Error for GET to https://api.spotify.com/v1/search?query=Foo+Fighters&type=track&offset=1000&limit=50 with Params: {} returned 404 due to Not found.\n",
      "ERROR:spotipy.client:HTTP Error for GET to https://api.spotify.com/v1/search?query=Rancid&type=track&offset=1000&limit=50 with Params: {} returned 404 due to Not found.\n",
      "ERROR:spotipy.client:HTTP Error for GET to https://api.spotify.com/v1/search?query=Bloc+Party&type=track&offset=1000&limit=50 with Params: {} returned 404 due to Not found.\n",
      "ERROR:spotipy.client:HTTP Error for GET to https://api.spotify.com/v1/search?query=Soft+Cell&type=track&offset=1000&limit=50 with Params: {} returned 404 due to Not found.\n",
      "ERROR:spotipy.client:HTTP Error for GET to https://api.spotify.com/v1/search?query=The+Clash&type=track&offset=1000&limit=50 with Params: {} returned 404 due to Not found.\n",
      "ERROR:spotipy.client:HTTP Error for GET to https://api.spotify.com/v1/search?query=The+Rolling+Stones&type=track&offset=1000&limit=50 with Params: {} returned 404 due to Not found.\n",
      "ERROR:spotipy.client:HTTP Error for GET to https://api.spotify.com/v1/search?query=Creedence+Clearwater+Revival&type=track&offset=1000&limit=50 with Params: {} returned 404 due to Not found.\n",
      "ERROR:spotipy.client:HTTP Error for GET to https://api.spotify.com/v1/search?query=Justice&type=track&offset=1000&limit=50 with Params: {} returned 404 due to Not found.\n",
      "ERROR:spotipy.client:HTTP Error for GET to https://api.spotify.com/v1/search?query=Talking+Heads&type=track&offset=1000&limit=50 with Params: {} returned 404 due to Not found.\n",
      "ERROR:spotipy.client:HTTP Error for GET to https://api.spotify.com/v1/search?query=Eagles&type=track&offset=1000&limit=50 with Params: {} returned 404 due to Not found.\n",
      "ERROR:spotipy.client:HTTP Error for GET to https://api.spotify.com/v1/search?query=Yes&type=track&offset=1000&limit=50 with Params: {} returned 404 due to Not found.\n",
      "ERROR:spotipy.client:HTTP Error for GET to https://api.spotify.com/v1/search?query=AC%2FDC&type=track&offset=1000&limit=50 with Params: {} returned 404 due to Not found.\n",
      "ERROR:spotipy.client:HTTP Error for GET to https://api.spotify.com/v1/search?query=Brooklyn&type=track&offset=1000&limit=50 with Params: {} returned 404 due to Not found.\n",
      "ERROR:spotipy.client:HTTP Error for GET to https://api.spotify.com/v1/search?query=Queen&type=track&offset=1000&limit=50 with Params: {} returned 404 due to Not found.\n",
      "ERROR:spotipy.client:HTTP Error for GET to https://api.spotify.com/v1/search?query=Michael+Jackson&type=track&offset=1000&limit=50 with Params: {} returned 404 due to Not found.\n",
      "ERROR:spotipy.client:HTTP Error for GET to https://api.spotify.com/v1/search?query=Enigma&type=track&offset=1000&limit=50 with Params: {} returned 404 due to Not found.\n",
      "ERROR:spotipy.client:HTTP Error for GET to https://api.spotify.com/v1/search?query=Beck&type=track&offset=1000&limit=50 with Params: {} returned 404 due to Not found.\n",
      "ERROR:spotipy.client:HTTP Error for GET to https://api.spotify.com/v1/search?query=of+Montreal&type=track&offset=1000&limit=50 with Params: {} returned 404 due to Not found.\n",
      "ERROR:spotipy.client:HTTP Error for GET to https://api.spotify.com/v1/search?query=Metallica&type=track&offset=1000&limit=50 with Params: {} returned 404 due to Not found.\n",
      "ERROR:spotipy.client:HTTP Error for GET to https://api.spotify.com/v1/search?query=Depeche+Mode&type=track&offset=1000&limit=50 with Params: {} returned 404 due to Not found.\n",
      "ERROR:spotipy.client:HTTP Error for GET to https://api.spotify.com/v1/search?query=David+Bowie&type=track&offset=1000&limit=50 with Params: {} returned 404 due to Not found.\n",
      "ERROR:spotipy.client:HTTP Error for GET to https://api.spotify.com/v1/search?query=Led+Zeppelin&type=track&offset=1000&limit=50 with Params: {} returned 404 due to Not found.\n",
      "ERROR:spotipy.client:HTTP Error for GET to https://api.spotify.com/v1/search?query=Arctic+Monkeys&type=track&offset=1000&limit=50 with Params: {} returned 404 due to Not found.\n",
      "ERROR:spotipy.client:HTTP Error for GET to https://api.spotify.com/v1/search?query=The+Killers&type=track&offset=1000&limit=50 with Params: {} returned 404 due to Not found.\n",
      "ERROR:spotipy.client:HTTP Error for GET to https://api.spotify.com/v1/search?query=grandson&type=track&offset=1000&limit=50 with Params: {} returned 404 due to Not found.\n",
      "ERROR:spotipy.client:HTTP Error for GET to https://api.spotify.com/v1/search?query=All+Time+Low&type=track&offset=1000&limit=50 with Params: {} returned 404 due to Not found.\n",
      "ERROR:spotipy.client:HTTP Error for GET to https://api.spotify.com/v1/search?query=The+Replacements&type=track&offset=1000&limit=50 with Params: {} returned 404 due to Not found.\n",
      "ERROR:spotipy.client:HTTP Error for GET to https://api.spotify.com/v1/search?query=The+Damned&type=track&offset=1000&limit=50 with Params: {} returned 404 due to Not found.\n",
      "ERROR:spotipy.client:HTTP Error for GET to https://api.spotify.com/v1/search?query=Richard+Hell&type=track&offset=1000&limit=50 with Params: {} returned 404 due to Not found.\n",
      "ERROR:spotipy.client:HTTP Error for GET to https://api.spotify.com/v1/search?query=Broadside&type=track&offset=1000&limit=50 with Params: {} returned 404 due to Not found.\n",
      "ERROR:spotipy.client:HTTP Error for GET to https://api.spotify.com/v1/search?query=Faith+No+More&type=track&offset=1000&limit=50 with Params: {} returned 404 due to Not found.\n",
      "ERROR:spotipy.client:HTTP Error for GET to https://api.spotify.com/v1/search?query=The+Police&type=track&offset=1000&limit=50 with Params: {} returned 404 due to Not found.\n",
      "ERROR:spotipy.client:HTTP Error for GET to https://api.spotify.com/v1/search?query=Royal+Blood&type=track&offset=1000&limit=50 with Params: {} returned 404 due to Not found.\n",
      "ERROR:spotipy.client:HTTP Error for GET to https://api.spotify.com/v1/search?query=Black+Sabbath&type=track&offset=1000&limit=50 with Params: {} returned 404 due to Not found.\n",
      "ERROR:spotipy.client:HTTP Error for GET to https://api.spotify.com/v1/search?query=Pink+Floyd&type=track&offset=1000&limit=50 with Params: {} returned 404 due to Not found.\n",
      "ERROR:spotipy.client:HTTP Error for GET to https://api.spotify.com/v1/search?query=The+Hit+Men&type=track&offset=1000&limit=50 with Params: {} returned 404 due to Not found.\n",
      "ERROR:spotipy.client:HTTP Error for GET to https://api.spotify.com/v1/search?query=Red+Hot+Chili+Peppers&type=track&offset=1000&limit=50 with Params: {} returned 404 due to Not found.\n",
      "ERROR:spotipy.client:HTTP Error for GET to https://api.spotify.com/v1/search?query=The+Score&type=track&offset=1000&limit=50 with Params: {} returned 404 due to Not found.\n",
      "ERROR:spotipy.client:HTTP Error for GET to https://api.spotify.com/v1/search?query=Wings&type=track&offset=1000&limit=50 with Params: {} returned 404 due to Not found.\n",
      "ERROR:spotipy.client:HTTP Error for GET to https://api.spotify.com/v1/search?query=KALEO&type=track&offset=1000&limit=50 with Params: {} returned 404 due to Not found.\n",
      "ERROR:spotipy.client:HTTP Error for GET to https://api.spotify.com/v1/search?query=Goldfinger&type=track&offset=1000&limit=50 with Params: {} returned 404 due to Not found.\n",
      "ERROR:spotipy.client:HTTP Error for GET to https://api.spotify.com/v1/search?query=Tears+For+Fears&type=track&offset=1000&limit=50 with Params: {} returned 404 due to Not found.\n",
      "ERROR:spotipy.client:HTTP Error for GET to https://api.spotify.com/v1/search?query=Bob+Dylan&type=track&offset=1000&limit=50 with Params: {} returned 404 due to Not found.\n",
      "ERROR:spotipy.client:HTTP Error for GET to https://api.spotify.com/v1/search?query=Jimi+Hendrix&type=track&offset=1000&limit=50 with Params: {} returned 404 due to Not found.\n",
      "ERROR:spotipy.client:HTTP Error for GET to https://api.spotify.com/v1/search?query=The+Beatles&type=track&offset=1000&limit=50 with Params: {} returned 404 due to Not found.\n",
      "ERROR:spotipy.client:HTTP Error for GET to https://api.spotify.com/v1/search?query=Jack+White&type=track&offset=1000&limit=50 with Params: {} returned 404 due to Not found.\n",
      "ERROR:spotipy.client:HTTP Error for GET to https://api.spotify.com/v1/search?query=Duran+Duran&type=track&offset=1000&limit=50 with Params: {} returned 404 due to Not found.\n",
      "ERROR:spotipy.client:HTTP Error for GET to https://api.spotify.com/v1/search?query=The+Goo+Goo+Dolls&type=track&offset=1000&limit=50 with Params: {} returned 404 due to Not found.\n",
      "ERROR:spotipy.client:HTTP Error for GET to https://api.spotify.com/v1/search?query=Aerosmith&type=track&offset=1000&limit=50 with Params: {} returned 404 due to Not found.\n",
      "ERROR:spotipy.client:HTTP Error for GET to https://api.spotify.com/v1/search?query=The+Band&type=track&offset=1000&limit=50 with Params: {} returned 404 due to Not found.\n",
      "ERROR:spotipy.client:HTTP Error for GET to https://api.spotify.com/v1/search?query=George+Michael&type=track&offset=1000&limit=50 with Params: {} returned 404 due to Not found.\n",
      "ERROR:spotipy.client:HTTP Error for GET to https://api.spotify.com/v1/search?query=Thin+Lizzy&type=track&offset=1000&limit=50 with Params: {} returned 404 due to Not found.\n",
      "ERROR:spotipy.client:HTTP Error for GET to https://api.spotify.com/v1/search?query=The+Who&type=track&offset=1000&limit=50 with Params: {} returned 404 due to Not found.\n",
      "ERROR:spotipy.client:HTTP Error for GET to https://api.spotify.com/v1/search?query=GoldFish&type=track&offset=1000&limit=50 with Params: {} returned 404 due to Not found.\n",
      "ERROR:spotipy.client:HTTP Error for GET to https://api.spotify.com/v1/search?query=Canned+Heat&type=track&offset=1000&limit=50 with Params: {} returned 404 due to Not found.\n",
      "ERROR:spotipy.client:HTTP Error for GET to https://api.spotify.com/v1/search?query=Delta+Sleep&type=track&offset=1000&limit=50 with Params: {} returned 404 due to Not found.\n",
      "ERROR:spotipy.client:HTTP Error for GET to https://api.spotify.com/v1/search?query=The+Strokes&type=track&offset=1000&limit=50 with Params: {} returned 404 due to Not found.\n",
      "ERROR:spotipy.client:HTTP Error for GET to https://api.spotify.com/v1/search?query=Frank+Sinatra&type=track&offset=1000&limit=50 with Params: {} returned 404 due to Not found.\n",
      "ERROR:spotipy.client:HTTP Error for GET to https://api.spotify.com/v1/search?query=The+Faint&type=track&offset=1000&limit=50 with Params: {} returned 404 due to Not found.\n",
      "ERROR:spotipy.client:HTTP Error for GET to https://api.spotify.com/v1/search?query=Eels&type=track&offset=1000&limit=50 with Params: {} returned 404 due to Not found.\n",
      "ERROR:spotipy.client:HTTP Error for GET to https://api.spotify.com/v1/search?query=Interpol&type=track&offset=1000&limit=50 with Params: {} returned 404 due to Not found.\n",
      "ERROR:spotipy.client:HTTP Error for GET to https://api.spotify.com/v1/search?query=Mike+Patton&type=track&offset=1000&limit=50 with Params: {} returned 404 due to Not found.\n"
     ]
    }
   ],
   "source": [
    "final_list = obtaining_all_songs_from_all_artists(different_artists)"
   ]
  },
  {
   "cell_type": "code",
   "execution_count": 211,
   "id": "36303dee-8a5f-4574-825e-4fc26b8f7449",
   "metadata": {
    "tags": []
   },
   "outputs": [
    {
     "data": {
      "text/plain": [
       "{'album': {'album_type': 'album',\n",
       "  'artists': [{'external_urls': {'spotify': 'https://open.spotify.com/artist/3ICflSq6ZgYAIrm2CTkfVP'},\n",
       "    'href': 'https://api.spotify.com/v1/artists/3ICflSq6ZgYAIrm2CTkfVP',\n",
       "    'id': '3ICflSq6ZgYAIrm2CTkfVP',\n",
       "    'name': 'The Animals',\n",
       "    'type': 'artist',\n",
       "    'uri': 'spotify:artist:3ICflSq6ZgYAIrm2CTkfVP'}],\n",
       "  'available_markets': ['CA', 'US'],\n",
       "  'external_urls': {'spotify': 'https://open.spotify.com/album/0Xwkx2TLFwRcoK0OWQ0Msa'},\n",
       "  'href': 'https://api.spotify.com/v1/albums/0Xwkx2TLFwRcoK0OWQ0Msa',\n",
       "  'id': '0Xwkx2TLFwRcoK0OWQ0Msa',\n",
       "  'images': [{'height': 640,\n",
       "    'url': 'https://i.scdn.co/image/ab67616d0000b2733c534611bd3658006378a2d7',\n",
       "    'width': 640},\n",
       "   {'height': 300,\n",
       "    'url': 'https://i.scdn.co/image/ab67616d00001e023c534611bd3658006378a2d7',\n",
       "    'width': 300},\n",
       "   {'height': 64,\n",
       "    'url': 'https://i.scdn.co/image/ab67616d000048513c534611bd3658006378a2d7',\n",
       "    'width': 64}],\n",
       "  'name': 'The Animals',\n",
       "  'release_date': '1964-01-01',\n",
       "  'release_date_precision': 'day',\n",
       "  'total_tracks': 13,\n",
       "  'type': 'album',\n",
       "  'uri': 'spotify:album:0Xwkx2TLFwRcoK0OWQ0Msa'},\n",
       " 'artists': [{'external_urls': {'spotify': 'https://open.spotify.com/artist/3ICflSq6ZgYAIrm2CTkfVP'},\n",
       "   'href': 'https://api.spotify.com/v1/artists/3ICflSq6ZgYAIrm2CTkfVP',\n",
       "   'id': '3ICflSq6ZgYAIrm2CTkfVP',\n",
       "   'name': 'The Animals',\n",
       "   'type': 'artist',\n",
       "   'uri': 'spotify:artist:3ICflSq6ZgYAIrm2CTkfVP'}],\n",
       " 'available_markets': ['CA', 'US'],\n",
       " 'disc_number': 1,\n",
       " 'duration_ms': 271280,\n",
       " 'explicit': False,\n",
       " 'external_ids': {'isrc': 'USA176460010'},\n",
       " 'external_urls': {'spotify': 'https://open.spotify.com/track/7BY005dacJkbO6EPiOh2wb'},\n",
       " 'href': 'https://api.spotify.com/v1/tracks/7BY005dacJkbO6EPiOh2wb',\n",
       " 'id': '7BY005dacJkbO6EPiOh2wb',\n",
       " 'is_local': False,\n",
       " 'name': 'House Of The Rising Sun',\n",
       " 'popularity': 71,\n",
       " 'preview_url': None,\n",
       " 'track_number': 1,\n",
       " 'type': 'track',\n",
       " 'uri': 'spotify:track:7BY005dacJkbO6EPiOh2wb'}"
      ]
     },
     "execution_count": 211,
     "metadata": {},
     "output_type": "execute_result"
    }
   ],
   "source": [
    "final_list[1][0][0]"
   ]
  },
  {
   "cell_type": "code",
   "execution_count": 220,
   "id": "c41d59ec-f350-4b55-9bb4-01a18d64a76f",
   "metadata": {},
   "outputs": [],
   "source": [
    "animals_songs = []\n",
    "for i in range(len(final_list[1][0])):\n",
    "    animals_songs = animals_songs + [final_list[1][0][i]['name']]\n",
    "the_animals = pd.DataFrame(animals_songs)"
   ]
  },
  {
   "cell_type": "code",
   "execution_count": 221,
   "id": "28cc8b93-5b88-4d81-9152-3d178c0c5851",
   "metadata": {},
   "outputs": [
    {
     "data": {
      "text/html": [
       "<div>\n",
       "<style scoped>\n",
       "    .dataframe tbody tr th:only-of-type {\n",
       "        vertical-align: middle;\n",
       "    }\n",
       "\n",
       "    .dataframe tbody tr th {\n",
       "        vertical-align: top;\n",
       "    }\n",
       "\n",
       "    .dataframe thead th {\n",
       "        text-align: right;\n",
       "    }\n",
       "</style>\n",
       "<table border=\"1\" class=\"dataframe\">\n",
       "  <thead>\n",
       "    <tr style=\"text-align: right;\">\n",
       "      <th></th>\n",
       "      <th>0</th>\n",
       "    </tr>\n",
       "  </thead>\n",
       "  <tbody>\n",
       "    <tr>\n",
       "      <th>0</th>\n",
       "      <td>House Of The Rising Sun</td>\n",
       "    </tr>\n",
       "    <tr>\n",
       "      <th>1</th>\n",
       "      <td>It's My Life</td>\n",
       "    </tr>\n",
       "    <tr>\n",
       "      <th>2</th>\n",
       "      <td>The Other Side Of Paradise</td>\n",
       "    </tr>\n",
       "    <tr>\n",
       "      <th>3</th>\n",
       "      <td>When I Was Young</td>\n",
       "    </tr>\n",
       "    <tr>\n",
       "      <th>4</th>\n",
       "      <td>House Of The Rising Sun</td>\n",
       "    </tr>\n",
       "    <tr>\n",
       "      <th>...</th>\n",
       "      <td>...</td>\n",
       "    </tr>\n",
       "    <tr>\n",
       "      <th>995</th>\n",
       "      <td>Animals An Animal</td>\n",
       "    </tr>\n",
       "    <tr>\n",
       "      <th>996</th>\n",
       "      <td>She Said Yeah</td>\n",
       "    </tr>\n",
       "    <tr>\n",
       "      <th>997</th>\n",
       "      <td>She's Attracted To</td>\n",
       "    </tr>\n",
       "    <tr>\n",
       "      <th>998</th>\n",
       "      <td>Animals Garden</td>\n",
       "    </tr>\n",
       "    <tr>\n",
       "      <th>999</th>\n",
       "      <td>Le carnaval des animaux, R. 125: IV. Tortues -...</td>\n",
       "    </tr>\n",
       "  </tbody>\n",
       "</table>\n",
       "<p>1000 rows × 1 columns</p>\n",
       "</div>"
      ],
      "text/plain": [
       "                                                     0\n",
       "0                              House Of The Rising Sun\n",
       "1                                         It's My Life\n",
       "2                           The Other Side Of Paradise\n",
       "3                                     When I Was Young\n",
       "4                              House Of The Rising Sun\n",
       "..                                                 ...\n",
       "995                                  Animals An Animal\n",
       "996                                      She Said Yeah\n",
       "997                                 She's Attracted To\n",
       "998                                     Animals Garden\n",
       "999  Le carnaval des animaux, R. 125: IV. Tortues -...\n",
       "\n",
       "[1000 rows x 1 columns]"
      ]
     },
     "execution_count": 221,
     "metadata": {},
     "output_type": "execute_result"
    }
   ],
   "source": [
    "the_animals"
   ]
  },
  {
   "cell_type": "code",
   "execution_count": 213,
   "id": "f5f8c74d-17ea-4cb8-83d2-c3ee8e2595b3",
   "metadata": {},
   "outputs": [
    {
     "data": {
      "text/plain": [
       "'House Of The Rising Sun'"
      ]
     },
     "execution_count": 213,
     "metadata": {},
     "output_type": "execute_result"
    }
   ],
   "source": [
    "final_list[1][0][0]['name']"
   ]
  },
  {
   "cell_type": "code",
   "execution_count": null,
   "id": "2bd41810-11a9-40b0-83e1-5a52eb8de62b",
   "metadata": {},
   "outputs": [],
   "source": []
  }
 ],
 "metadata": {
  "kernelspec": {
   "display_name": "Python 3",
   "language": "python",
   "name": "python3"
  },
  "language_info": {
   "codemirror_mode": {
    "name": "ipython",
    "version": 3
   },
   "file_extension": ".py",
   "mimetype": "text/x-python",
   "name": "python",
   "nbconvert_exporter": "python",
   "pygments_lexer": "ipython3",
   "version": "3.8.8"
  }
 },
 "nbformat": 4,
 "nbformat_minor": 5
}
