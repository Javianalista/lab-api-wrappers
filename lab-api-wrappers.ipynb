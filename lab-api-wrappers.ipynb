{
 "cells": [
  {
   "cell_type": "code",
   "execution_count": 81,
   "id": "80fc3f39-f34c-481f-b7e0-01a254bbbfd6",
   "metadata": {},
   "outputs": [],
   "source": [
    "from bs4 import BeautifulSoup\n",
    "import requests\n",
    "import pandas as pd\n",
    "from random import randint\n",
    "import re\n",
    "import spotipy\n",
    "from spotipy.oauth2 import SpotifyClientCredentials"
   ]
  },
  {
   "cell_type": "markdown",
   "id": "f38194cb-44a6-42e3-a004-e81b7b1d39a6",
   "metadata": {},
   "source": [
    "## Obtaining the web page"
   ]
  },
  {
   "cell_type": "code",
   "execution_count": 19,
   "id": "f4cab5e9-aa76-42a6-9773-ac5a61aa8135",
   "metadata": {},
   "outputs": [],
   "source": [
    "url = 'https://www.billboard.com/charts/hot-100'"
   ]
  },
  {
   "cell_type": "code",
   "execution_count": 20,
   "id": "c89adeee-aff2-4549-a8e0-9c0a2be780c5",
   "metadata": {},
   "outputs": [
    {
     "data": {
      "text/plain": [
       "200"
      ]
     },
     "execution_count": 20,
     "metadata": {},
     "output_type": "execute_result"
    }
   ],
   "source": [
    "response = requests.get(url)\n",
    "response.status_code"
   ]
  },
  {
   "cell_type": "code",
   "execution_count": 21,
   "id": "61a22313-9ea3-4c59-8724-2342e4bd9476",
   "metadata": {},
   "outputs": [],
   "source": [
    "soup = BeautifulSoup(response.content, \"html.parser\")"
   ]
  },
  {
   "cell_type": "markdown",
   "id": "6137e7fd-ce96-4c0d-8faa-99b1b62bc81d",
   "metadata": {},
   "source": [
    "## Creating the dataframe"
   ]
  },
  {
   "cell_type": "code",
   "execution_count": 22,
   "id": "6f00ed2c-4a3e-4510-ab82-6025dc45cc75",
   "metadata": {},
   "outputs": [],
   "source": [
    "titles = []\n",
    "for title in soup.select(\"h3\")[4:104]:\n",
    "    titles.append(title.get_text().strip())"
   ]
  },
  {
   "cell_type": "code",
   "execution_count": 23,
   "id": "9eb10197-001a-408a-a426-f9b684d497bc",
   "metadata": {},
   "outputs": [],
   "source": [
    "artists = []\n",
    "for artist in soup.select(\"li.o-chart-results-list__item.\\/\\/.lrv-u-flex-grow-1.lrv-u-flex.lrv-u-flex-direction-column.lrv-u-justify-content-center.lrv-u-border-b-1.u-border-b-0\\@mobile-max.lrv-u-border-color-grey-light.lrv-u-padding-l-1\\@mobile-max > span\"):\n",
    "    artists.append(artist.get_text().strip())"
   ]
  },
  {
   "cell_type": "code",
   "execution_count": 30,
   "id": "2ed52907-050a-44a5-9512-51bc9b9ee6cb",
   "metadata": {
    "tags": []
   },
   "outputs": [],
   "source": [
    "#artists"
   ]
  },
  {
   "cell_type": "code",
   "execution_count": 31,
   "id": "c5e8b855-5fab-476c-bb08-6353c6f88968",
   "metadata": {},
   "outputs": [
    {
     "data": {
      "text/html": [
       "<div>\n",
       "<style scoped>\n",
       "    .dataframe tbody tr th:only-of-type {\n",
       "        vertical-align: middle;\n",
       "    }\n",
       "\n",
       "    .dataframe tbody tr th {\n",
       "        vertical-align: top;\n",
       "    }\n",
       "\n",
       "    .dataframe thead th {\n",
       "        text-align: right;\n",
       "    }\n",
       "</style>\n",
       "<table border=\"1\" class=\"dataframe\">\n",
       "  <thead>\n",
       "    <tr style=\"text-align: right;\">\n",
       "      <th></th>\n",
       "      <th>artist</th>\n",
       "      <th>song</th>\n",
       "    </tr>\n",
       "  </thead>\n",
       "  <tbody>\n",
       "    <tr>\n",
       "      <th>0</th>\n",
       "      <td>Taylor Swift</td>\n",
       "      <td>All Too Well (Taylor's Version)</td>\n",
       "    </tr>\n",
       "    <tr>\n",
       "      <th>1</th>\n",
       "      <td>Adele</td>\n",
       "      <td>Easy On Me</td>\n",
       "    </tr>\n",
       "    <tr>\n",
       "      <th>2</th>\n",
       "      <td>The Kid LAROI &amp; Justin Bieber</td>\n",
       "      <td>Stay</td>\n",
       "    </tr>\n",
       "    <tr>\n",
       "      <th>3</th>\n",
       "      <td>Lil Nas X &amp; Jack Harlow</td>\n",
       "      <td>Industry Baby</td>\n",
       "    </tr>\n",
       "    <tr>\n",
       "      <th>4</th>\n",
       "      <td>Silk Sonic (Bruno Mars &amp; Anderson .Paak)</td>\n",
       "      <td>Smokin Out The Window</td>\n",
       "    </tr>\n",
       "    <tr>\n",
       "      <th>...</th>\n",
       "      <td>...</td>\n",
       "      <td>...</td>\n",
       "    </tr>\n",
       "    <tr>\n",
       "      <th>95</th>\n",
       "      <td>Swedish House Mafia &amp; The Weeknd</td>\n",
       "      <td>Moth To A Flame</td>\n",
       "    </tr>\n",
       "    <tr>\n",
       "      <th>96</th>\n",
       "      <td>Cody Johnson</td>\n",
       "      <td>'Til You Can't</td>\n",
       "    </tr>\n",
       "    <tr>\n",
       "      <th>97</th>\n",
       "      <td>Doja Cat</td>\n",
       "      <td>Woman</td>\n",
       "    </tr>\n",
       "    <tr>\n",
       "      <th>98</th>\n",
       "      <td>The Weeknd</td>\n",
       "      <td>Take My Breath</td>\n",
       "    </tr>\n",
       "    <tr>\n",
       "      <th>99</th>\n",
       "      <td>Giveon</td>\n",
       "      <td>For Tonight</td>\n",
       "    </tr>\n",
       "  </tbody>\n",
       "</table>\n",
       "<p>100 rows × 2 columns</p>\n",
       "</div>"
      ],
      "text/plain": [
       "                                      artist                             song\n",
       "0                               Taylor Swift  All Too Well (Taylor's Version)\n",
       "1                                      Adele                       Easy On Me\n",
       "2              The Kid LAROI & Justin Bieber                             Stay\n",
       "3                    Lil Nas X & Jack Harlow                    Industry Baby\n",
       "4   Silk Sonic (Bruno Mars & Anderson .Paak)            Smokin Out The Window\n",
       "..                                       ...                              ...\n",
       "95          Swedish House Mafia & The Weeknd                  Moth To A Flame\n",
       "96                              Cody Johnson                   'Til You Can't\n",
       "97                                  Doja Cat                            Woman\n",
       "98                                The Weeknd                   Take My Breath\n",
       "99                                    Giveon                      For Tonight\n",
       "\n",
       "[100 rows x 2 columns]"
      ]
     },
     "execution_count": 31,
     "metadata": {},
     "output_type": "execute_result"
    }
   ],
   "source": [
    "top_100 = pd.DataFrame({\"artist\": artists, \"song\": titles})\n",
    "top_100"
   ]
  },
  {
   "cell_type": "markdown",
   "id": "53cadb84-83d5-4d17-9e16-ab2d7ff76b58",
   "metadata": {},
   "source": [
    "## Obtaining the second list"
   ]
  },
  {
   "cell_type": "code",
   "execution_count": 32,
   "id": "9f8b5330-e78b-492b-94d8-2e5a7d0767ae",
   "metadata": {},
   "outputs": [],
   "source": [
    "url1 = 'https://www.elportaldemusica.es/lists/top-100-canciones/2021/45'"
   ]
  },
  {
   "cell_type": "code",
   "execution_count": 33,
   "id": "d93dcded-9846-4405-bdfd-653c333a850b",
   "metadata": {},
   "outputs": [
    {
     "data": {
      "text/plain": [
       "200"
      ]
     },
     "execution_count": 33,
     "metadata": {},
     "output_type": "execute_result"
    }
   ],
   "source": [
    "response1 = requests.get(url1)\n",
    "response1.status_code"
   ]
  },
  {
   "cell_type": "code",
   "execution_count": 34,
   "id": "3b015257-3eb3-4b47-b9f7-8df449f85acc",
   "metadata": {},
   "outputs": [],
   "source": [
    "soup1 = BeautifulSoup(response1.content, \"html.parser\")"
   ]
  },
  {
   "cell_type": "code",
   "execution_count": 35,
   "id": "fb669721-6ad1-4376-8ab5-09247090b05a",
   "metadata": {
    "tags": []
   },
   "outputs": [],
   "source": [
    "#soup1"
   ]
  },
  {
   "cell_type": "code",
   "execution_count": 36,
   "id": "ac22cc18-5bb2-46c2-b42b-5ea6fa04b11f",
   "metadata": {},
   "outputs": [],
   "source": [
    "artists1 = []\n",
    "for name in soup1.select(\"div.related\"):\n",
    "    artists1.append(name.get_text().strip())"
   ]
  },
  {
   "cell_type": "code",
   "execution_count": 37,
   "id": "93f19d9f-dd15-4945-a1ab-844f05eedbc2",
   "metadata": {},
   "outputs": [],
   "source": [
    "songs1 = []\n",
    "for name in soup1.select(\"div.name\"):\n",
    "    songs1.append(name.get_text().strip())"
   ]
  },
  {
   "cell_type": "code",
   "execution_count": 38,
   "id": "bb53ad55-bc2b-4352-87f3-9d3919cb53b6",
   "metadata": {},
   "outputs": [
    {
     "data": {
      "text/html": [
       "<div>\n",
       "<style scoped>\n",
       "    .dataframe tbody tr th:only-of-type {\n",
       "        vertical-align: middle;\n",
       "    }\n",
       "\n",
       "    .dataframe tbody tr th {\n",
       "        vertical-align: top;\n",
       "    }\n",
       "\n",
       "    .dataframe thead th {\n",
       "        text-align: right;\n",
       "    }\n",
       "</style>\n",
       "<table border=\"1\" class=\"dataframe\">\n",
       "  <thead>\n",
       "    <tr style=\"text-align: right;\">\n",
       "      <th></th>\n",
       "      <th>artist</th>\n",
       "      <th>song</th>\n",
       "    </tr>\n",
       "  </thead>\n",
       "  <tbody>\n",
       "    <tr>\n",
       "      <th>0</th>\n",
       "      <td>C. Tangana, Nathy Peluso</td>\n",
       "      <td>Ateo</td>\n",
       "    </tr>\n",
       "    <tr>\n",
       "      <th>1</th>\n",
       "      <td>zzoilo, Aitana</td>\n",
       "      <td>Mon Amour (remix)</td>\n",
       "    </tr>\n",
       "    <tr>\n",
       "      <th>2</th>\n",
       "      <td>BIZARRAP / ANUEL AA</td>\n",
       "      <td>ANUEL AA: BZRP MUSIC SESSION: VOL. 46</td>\n",
       "    </tr>\n",
       "    <tr>\n",
       "      <th>3</th>\n",
       "      <td>MYKE TOWERS</td>\n",
       "      <td>EXPERIMENTO</td>\n",
       "    </tr>\n",
       "    <tr>\n",
       "      <th>4</th>\n",
       "      <td>Rvssian, Rauw Alejandro &amp; Chris Brown</td>\n",
       "      <td>Nostálgico</td>\n",
       "    </tr>\n",
       "    <tr>\n",
       "      <th>...</th>\n",
       "      <td>...</td>\n",
       "      <td>...</td>\n",
       "    </tr>\n",
       "    <tr>\n",
       "      <th>95</th>\n",
       "      <td>KAROL G</td>\n",
       "      <td>SEJODIOTO</td>\n",
       "    </tr>\n",
       "    <tr>\n",
       "      <th>96</th>\n",
       "      <td>Olivia Rodrigo</td>\n",
       "      <td>Good 4 u</td>\n",
       "    </tr>\n",
       "    <tr>\n",
       "      <th>97</th>\n",
       "      <td>BIZARRAP / NICKY JAM</td>\n",
       "      <td>NICKY JAM: BZRP MUSIC SESSIONS, VOL. 41</td>\n",
       "    </tr>\n",
       "    <tr>\n",
       "      <th>98</th>\n",
       "      <td>Jhay Cortez, Skrillex</td>\n",
       "      <td>En Mi Cuarto</td>\n",
       "    </tr>\n",
       "    <tr>\n",
       "      <th>99</th>\n",
       "      <td>RAUW ALEJANDRO / MR. NAISGAI</td>\n",
       "      <td>2/CATORCE</td>\n",
       "    </tr>\n",
       "  </tbody>\n",
       "</table>\n",
       "<p>100 rows × 2 columns</p>\n",
       "</div>"
      ],
      "text/plain": [
       "                                   artist  \\\n",
       "0                C. Tangana, Nathy Peluso   \n",
       "1                          zzoilo, Aitana   \n",
       "2                     BIZARRAP / ANUEL AA   \n",
       "3                             MYKE TOWERS   \n",
       "4   Rvssian, Rauw Alejandro & Chris Brown   \n",
       "..                                    ...   \n",
       "95                                KAROL G   \n",
       "96                         Olivia Rodrigo   \n",
       "97                   BIZARRAP / NICKY JAM   \n",
       "98                  Jhay Cortez, Skrillex   \n",
       "99           RAUW ALEJANDRO / MR. NAISGAI   \n",
       "\n",
       "                                       song  \n",
       "0                                      Ateo  \n",
       "1                         Mon Amour (remix)  \n",
       "2     ANUEL AA: BZRP MUSIC SESSION: VOL. 46  \n",
       "3                               EXPERIMENTO  \n",
       "4                                Nostálgico  \n",
       "..                                      ...  \n",
       "95                                SEJODIOTO  \n",
       "96                                 Good 4 u  \n",
       "97  NICKY JAM: BZRP MUSIC SESSIONS, VOL. 41  \n",
       "98                             En Mi Cuarto  \n",
       "99                                2/CATORCE  \n",
       "\n",
       "[100 rows x 2 columns]"
      ]
     },
     "execution_count": 38,
     "metadata": {},
     "output_type": "execute_result"
    }
   ],
   "source": [
    "second_top = pd.DataFrame({\"artist\": artists1, \"song\": songs1})\n",
    "second_top"
   ]
  },
  {
   "cell_type": "markdown",
   "id": "00fb4d69-f66e-49a1-93f9-f77bfb73a464",
   "metadata": {},
   "source": [
    "### Asking a song name"
   ]
  },
  {
   "cell_type": "code",
   "execution_count": 39,
   "id": "8a9fa143-30ed-479c-b63c-7814da307d83",
   "metadata": {},
   "outputs": [],
   "source": [
    "def recommending_song(song):\n",
    "    songs_to_recommend_top_100 = []\n",
    "    position_top_100 = []\n",
    "    songs_to_recommend_second_top = []\n",
    "    position_second_top = []\n",
    "    for i in range(100):\n",
    "        if song == top_100['song'][i]:\n",
    "            songs_to_recommend_top_100.append(top_100['song'][i])\n",
    "            position_top_100.append(i)\n",
    "        elif song == second_top['song'][i]:\n",
    "            songs_to_recommend_second_top.append(second_top['song'][i])\n",
    "            position_second_top.append(i)\n",
    "    if len(songs_to_recommend_top_100)> 0:\n",
    "        random_number = position_top_100[0]\n",
    "        while random_number == position_top_100[0]:\n",
    "            random_number = randint(0,99)\n",
    "        i_recommend = top_100['song'][random_number]\n",
    "        return print(\"Good choice! This song is now in the position number \" + str(position_top_100[0]+1) + \" of our first top from \" + top_100['artist'][position_top_100[0]] + \". Here we have another recommendation of this top 100 songs: \" + i_recommend + \" from \" + top_100['artist'][random_number])\n",
    "    elif len(songs_to_recommend_second_top)> 0:\n",
    "        random_number = position_second_top[0]\n",
    "        while random_number == position_second_top[0]:\n",
    "            random_number = randint(0,99)\n",
    "        i_recommend = second_top['song'][random_number]\n",
    "        return print(\"Good choice! This song is now in the position number \" + str(position_second_top[0]+1) + \" of our second top from \" + second_top['artist'][position_second_top[0]] + \". Here we have another recommendation of this top 100 songs: \" + i_recommend + \" from \" + second_top['artist'][random_number])\n",
    "    else:\n",
    "        print(\"Sorry, now we can't help you with that song, but if you want to try again with another one...\")\n",
    "        return 0"
   ]
  },
  {
   "cell_type": "code",
   "execution_count": 42,
   "id": "cd88c563-11d4-4079-875d-8e0a28f724d9",
   "metadata": {},
   "outputs": [],
   "source": [
    "def recommending_artist(artist):\n",
    "    songs_to_recommend_top_100 = []\n",
    "    position_top_100 = []\n",
    "    songs_to_recommend_second_top = []\n",
    "    position_second_top = []\n",
    "    for i in range(100):\n",
    "        text1 = top_100['artist'][i]\n",
    "        text2 = second_top['artist'][i]\n",
    "        pattern = artist\n",
    "        number_1 = re.findall(pattern, text1)\n",
    "        number_2 = re.findall(pattern, text2)\n",
    "        if len(number_1)> 0:\n",
    "            songs_to_recommend_top_100.append(top_100['song'][i])\n",
    "            position_top_100.append(i)\n",
    "            number_1.pop(0)\n",
    "        if len(number_2)> 0:\n",
    "            songs_to_recommend_second_top.append(second_top['song'][i])\n",
    "            position_second_top.append(i)\n",
    "            number_2.pop(0)\n",
    "    if len(songs_to_recommend_top_100)> 0:\n",
    "        print('Good choice! This artist has ' + str(len(songs_to_recommend_top_100)) + ' songs:')\n",
    "        for i in range(len(songs_to_recommend_top_100)):\n",
    "            print('-' + songs_to_recommend_top_100[i] + ' in position ' + str(position_top_100[i] + 1))\n",
    "        return \n",
    "    elif len(songs_to_recommend_second_top)> 0:\n",
    "        print('Good choice! This artist has ' + str(len(songs_to_recommend_second_top)) + ' songs:')\n",
    "        for i in range(len(songs_to_recommend_second_top)):\n",
    "            print('-' + songs_to_recommend_second_top[i] + ' in position ' + str(position_second_top[i] + 1))\n",
    "        return \n",
    "    else:\n",
    "        print(\"Sorry, now we can't help you with that artist, but if you want to try again with another one...\")\n",
    "        return 0"
   ]
  },
  {
   "cell_type": "code",
   "execution_count": 45,
   "id": "345a722b-2c65-4c75-b48c-327e763d7631",
   "metadata": {},
   "outputs": [],
   "source": [
    "def asking_song():\n",
    "    print(\"Which song do you want?\")\n",
    "    song_name = input()\n",
    "    value = recommending_song(song_name)\n",
    "    while value == 0:\n",
    "        print(\"Which new song do you want?\")\n",
    "        song_name = input()\n",
    "        value = recommending_song(song_name)\n",
    "    return"
   ]
  },
  {
   "cell_type": "code",
   "execution_count": 46,
   "id": "89da0aa5-5ad6-4898-b256-ddccee7b64b4",
   "metadata": {},
   "outputs": [],
   "source": [
    "def asking_artist():\n",
    "    print(\"Which artist do you want?\")\n",
    "    artist_name = input()\n",
    "    value = recommending_artist(artist_name)\n",
    "    while value == 0:\n",
    "        print(\"Which new artist do you want?\")\n",
    "        artist_name = input()\n",
    "        value = recommending_artist(song_name)\n",
    "    return"
   ]
  },
  {
   "cell_type": "code",
   "execution_count": null,
   "id": "0bd9f28f-867d-48b5-9243-78b414018afc",
   "metadata": {},
   "outputs": [],
   "source": [
    "asking_song()"
   ]
  },
  {
   "cell_type": "code",
   "execution_count": null,
   "id": "94bfa4eb-ce89-4399-b7e0-ace5f5270fdc",
   "metadata": {},
   "outputs": [],
   "source": [
    "asking_artist()"
   ]
  },
  {
   "cell_type": "code",
   "execution_count": 78,
   "id": "553ee1e2-19cf-4e9e-b2aa-a8abdac3a7e9",
   "metadata": {},
   "outputs": [],
   "source": [
    "def asking():\n",
    "    print(\"If you want to search by song enter 1, and if you want to search by artist enter 2\")\n",
    "    search = input()\n",
    "    while (search != '1') & (search != '2'):\n",
    "        print(type(search))\n",
    "        print(\"This isn't a valid value... Try again\")\n",
    "        print(\"If you want to search by song enter 1, and if you want to search by artist enter 2\")\n",
    "        search = input()\n",
    "    if search == '1':\n",
    "        return asking_song()\n",
    "    elif search == '2':\n",
    "        return asking_artist()"
   ]
  },
  {
   "cell_type": "code",
   "execution_count": 80,
   "id": "83297d41-e8fd-47e3-b2f7-71b7bba3323c",
   "metadata": {},
   "outputs": [
    {
     "name": "stdout",
     "output_type": "stream",
     "text": [
      "If you want to search by song enter 1, and if you want to search by artist enter 2\n"
     ]
    },
    {
     "name": "stdin",
     "output_type": "stream",
     "text": [
      " Sabe \n"
     ]
    },
    {
     "name": "stdout",
     "output_type": "stream",
     "text": [
      "<class 'str'>\n",
      "This isn't a valid value... Try again\n",
      "If you want to search by song enter 1, and if you want to search by artist enter 2\n"
     ]
    },
    {
     "name": "stdin",
     "output_type": "stream",
     "text": [
      " Sabe\n"
     ]
    },
    {
     "name": "stdout",
     "output_type": "stream",
     "text": [
      "<class 'str'>\n",
      "This isn't a valid value... Try again\n",
      "If you want to search by song enter 1, and if you want to search by artist enter 2\n"
     ]
    },
    {
     "name": "stdin",
     "output_type": "stream",
     "text": [
      " 1\n"
     ]
    },
    {
     "name": "stdout",
     "output_type": "stream",
     "text": [
      "Which song do you want?\n"
     ]
    },
    {
     "name": "stdin",
     "output_type": "stream",
     "text": [
      " Sabe \n"
     ]
    },
    {
     "name": "stdout",
     "output_type": "stream",
     "text": [
      "Sorry, now we can't help you with that song, but if you want to try again with another one...\n",
      "Which new song do you want?\n"
     ]
    },
    {
     "name": "stdin",
     "output_type": "stream",
     "text": [
      " Sabe\n"
     ]
    },
    {
     "name": "stdout",
     "output_type": "stream",
     "text": [
      "Good choice! This song is now in the position number 32 of our second top from Nicki Nicole & Rauw Alejandro. Here we have another recommendation of this top 100 songs: Ateo from C. Tangana, Nathy Peluso\n"
     ]
    }
   ],
   "source": [
    "asking()"
   ]
  },
  {
   "cell_type": "code",
   "execution_count": null,
   "id": "30ae0eb3-3bda-45d7-9b63-7291fc6a2163",
   "metadata": {},
   "outputs": [],
   "source": []
  }
 ],
 "metadata": {
  "kernelspec": {
   "display_name": "Python 3",
   "language": "python",
   "name": "python3"
  },
  "language_info": {
   "codemirror_mode": {
    "name": "ipython",
    "version": 3
   },
   "file_extension": ".py",
   "mimetype": "text/x-python",
   "name": "python",
   "nbconvert_exporter": "python",
   "pygments_lexer": "ipython3",
   "version": "3.8.8"
  }
 },
 "nbformat": 4,
 "nbformat_minor": 5
}
